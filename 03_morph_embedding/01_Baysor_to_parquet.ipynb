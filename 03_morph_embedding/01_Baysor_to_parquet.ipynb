{
 "cells": [
  {
   "cell_type": "markdown",
   "id": "dbe74605-dea9-41d0-ae5c-6378d34fd7aa",
   "metadata": {},
   "source": [
    "# This notebook must be run with the Vizgen_2 conda environment within the Vizgen.sif singularity container"
   ]
  },
  {
   "cell_type": "code",
   "execution_count": 2,
   "id": "c02bcf4b-62f3-4b05-ba79-814c5b3fa912",
   "metadata": {},
   "outputs": [
    {
     "name": "stdout",
     "output_type": "stream",
     "text": [
      "24-mo-female-1\n",
      "24-mo-female-3\n",
      "24-mo-female-5\n",
      "24-mo-male-1\n",
      "24-mo-male-2\n",
      "24-mo-male-4-rev2\n",
      "3-mo-female-1-rev2\n",
      "3-mo-female-2\n",
      "3-mo-female-3\n",
      "3-mo-male-1\n",
      "3-mo-male-2\n",
      "3-mo-male-3-rev2\n",
      "Processing complete.\n"
     ]
    }
   ],
   "source": [
    "import os\n",
    "import scanpy as sc\n",
    "import geojson\n",
    "import geopandas as gpd\n",
    "from shapely.geometry import Polygon, shape\n",
    "from shapely.affinity import affine_transform\n",
    "from shapely.wkb import dumps\n",
    "import pandas as pd\n",
    "\n",
    "baysor_path = '/hpc/projects/group.quake/doug/Shapes_Spatial/'\n",
    "meta_list = [\n",
    "    '24-mo-female-1',\n",
    "    '24-mo-female-3',\n",
    "    '24-mo-female-5',\n",
    "    '24-mo-male-1',\n",
    "    '24-mo-male-2',\n",
    "    '24-mo-male-4-rev2',\n",
    "    '3-mo-female-1-rev2',\n",
    "    '3-mo-female-2',\n",
    "    '3-mo-female-3',\n",
    "    '3-mo-male-1',\n",
    "    '3-mo-male-2',\n",
    "    '3-mo-male-3-rev2'\n",
    "]\n",
    "region_types = ['region_0', 'region_1']\n",
    "\n",
    "adata = sc.read_h5ad('../02_annotation/baysor_microglia.h5ad')\n",
    "\n",
    "for meta in meta_list:\n",
    "    print(meta)\n",
    "    # Check for the existence of files with different region types\n",
    "    file_found = False\n",
    "    for region in region_types:\n",
    "        file = f'{baysor_path}{meta}/baysor/{region}_6-5_micron_polygons.json'\n",
    "        if os.path.exists(file):\n",
    "            file_found = True\n",
    "            break\n",
    "    \n",
    "    if not file_found:\n",
    "        print(f\"No file found for {meta} in regions {region_types}\")\n",
    "        continue\n",
    "    \n",
    "    with open(file) as f:\n",
    "        geometries = geojson.load(f)\n",
    "    \n",
    "    # Load the affine transformation matrix\n",
    "    transform_file = f'{baysor_path}{meta}/images/micron_to_mosaic_pixel_transform.csv'\n",
    "    transform_df = pd.read_table(transform_file,sep=' ', header=None)\n",
    "    transformation_matrix = transform_df.values\n",
    "    \n",
    "    identifier = adata[adata.obs.batchID == meta].obs.iloc[0].Name.split('-')[0]\n",
    "    shapes = []\n",
    "    cells = []\n",
    "    for geo in geometries['geometries']:\n",
    "        if len(geo['coordinates'][0]) > 2:\n",
    "            polygon = Polygon(geo['coordinates'][0])\n",
    "            #transformed_polygon = affine_transform(polygon, [affine_matrix[0], affine_matrix[1], affine_matrix[2], affine_matrix[3], affine_matrix[4], affine_matrix[5]])\n",
    "            shapes.append(polygon)\n",
    "            cells.append(identifier + '-' + str(geo['cell']))\n",
    "    \n",
    "    cells_gdf = gpd.GeoDataFrame({'Geometry': shapes, 'Name': cells}, geometry='Geometry')\n",
    "    cells_gdf['Geometry'] = cells_gdf['Geometry'].scale(xfact = transformation_matrix[0,0], yfact = transformation_matrix[1,1], origin = (0, 0, 0)).translate(transformation_matrix[0, 2], transformation_matrix[1, 2])\n",
    "\n",
    "    cells_gdf.to_parquet(f'{baysor_path}{meta}/baysor/{region}_6-5_micron_polygons.parquet')\n",
    "\n",
    "print(\"Processing complete.\")"
   ]
  },
  {
   "cell_type": "code",
   "execution_count": null,
   "id": "077e9e2f-7432-4fad-9107-2a661b01f194",
   "metadata": {},
   "outputs": [],
   "source": []
  }
 ],
 "metadata": {
  "kernelspec": {
   "display_name": "Vizgen_2",
   "language": "python",
   "name": "vizgen_2"
  },
  "language_info": {
   "codemirror_mode": {
    "name": "ipython",
    "version": 3
   },
   "file_extension": ".py",
   "mimetype": "text/x-python",
   "name": "python",
   "nbconvert_exporter": "python",
   "pygments_lexer": "ipython3",
   "version": "3.9.19"
  }
 },
 "nbformat": 4,
 "nbformat_minor": 5
}

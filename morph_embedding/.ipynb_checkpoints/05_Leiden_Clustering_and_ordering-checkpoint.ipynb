{
 "cells": [
  {
   "cell_type": "markdown",
   "id": "7449e8ab-f21b-4794-b468-2a34d5a18e79",
   "metadata": {},
   "source": [
    "# This notebook must be run with the Vizgen_2 conda environment within the Vizgen.sif singularity container"
   ]
  },
  {
   "cell_type": "code",
   "execution_count": null,
   "id": "c0a56db9-fe4c-46d7-8184-e3b32e069638",
   "metadata": {},
   "outputs": [],
   "source": [
    "import scanpy as sc\n",
    "import matplotlib.pyplot as plt\n",
    "import seaborn as sns\n",
    "import pandas as pd\n",
    "from sklearn.cluster import KMeans\n",
    "from sklearn.decomposition import PCA\n",
    "import umap\n",
    "import numpy as np\n",
    "from scipy.stats import spearmanr\n",
    "from kneed import KneeLocator\n",
    "import json"
   ]
  },
  {
   "cell_type": "code",
   "execution_count": null,
   "id": "bc62ec71-1283-4603-b66d-21abf310ca50",
   "metadata": {},
   "outputs": [],
   "source": [
    "feature_vectors = pd.read_csv('feature_vectors_texture.csv')\n",
    "df_vectors = feature_vectors.copy()\n",
    "\n",
    "ad_parent = sc.read_h5ad('Microglia_cuttlefish_500_block5_conv1_umap.h5ad')\n",
    "\n",
    "adata = ad_parent[ad_parent.obs.updated_celltype == 'Microglia']\n",
    "\n",
    "merged_df = adata.obs.reset_index().merge(df_vectors, on=['Name'], how='left').set_index('index')\n",
    "adata.obs = merged_df\n",
    "\n",
    "start_index = list(adata.obs.columns).index('Cell Area')\n",
    "columns_after_specific = adata.obs.iloc[:, start_index:-3].values\n",
    "\n",
    "morphological_columns = adata.obs.columns[start_index:-3]\n",
    "\n",
    "start_index = list(adata.obs.columns).index('Cell Area')  # Add 1 to include the column itself\n",
    "columns_after_specific = adata.obs.iloc[:, start_index:-3].values\n",
    "\n",
    "morphological_columns = adata.obs.columns[start_index:-3]\n",
    "\n",
    "non_na_columns = morphological_columns[~adata.obs[morphological_columns].isna().all()]\n",
    "\n",
    "# Identify rows with any NaN values in the morphological factors\n",
    "rows_with_nan = adata.obs[non_na_columns].isna().all(axis=1)\n",
    "\n",
    "# Subset the AnnData object to remove rows with NaN values\n",
    "adata = adata[~rows_with_nan].copy()\n",
    "\n",
    "vector_list = [json.loads(vec) if pd.notnull(vec) else np.zeros(512) for vec in adata.obs['texture']]\n",
    "vector_matrix = np.array(vector_list)\n",
    "\n",
    "pca = PCA(n_components=10)\n",
    "principal_components = pca.fit_transform(vector_matrix)\n",
    "\n",
    "n_neighbors = 10\n",
    "umap_model = umap.UMAP(n_neighbors=n_neighbors)\n",
    "umap_embedding = umap_model.fit_transform(principal_components)\n",
    "\n",
    "adata.obsm['X_pca'] = principal_components\n",
    "\n",
    "adata.obsm['X_umap_shapes'] = umap_embedding"
   ]
  },
  {
   "cell_type": "code",
   "execution_count": null,
   "id": "2e3bf30b-4801-4023-9b89-7be7c1edacf6",
   "metadata": {},
   "outputs": [],
   "source": [
    "# What is the right number of clusters?\n",
    "inertia = []\n",
    "k_values = range(1, 25)  # You can adjust the range as needed\n",
    "\n",
    "for k in k_values:\n",
    "    kmeans = KMeans(n_clusters=k, random_state=42)\n",
    "    kmeans.fit(principal_components)\n",
    "    inertia.append(kmeans.inertia_)\n",
    "\n",
    "plt.plot(k_values, inertia, 'bx-')\n",
    "plt.xlabel('Number of clusters (k)')\n",
    "plt.ylabel('Inertia')\n",
    "plt.title('Elbow Method showing the optimal k')\n",
    "plt.show()\n",
    "\n",
    "# Create the KneeLocator object\n",
    "kneedle = KneeLocator(k_values, inertia, curve='convex', direction='decreasing')\n",
    "\n",
    "# Get the elbow point\n",
    "optimal_k = kneedle.elbow\n",
    "\n",
    "print(f'The optimal number of clusters is {optimal_k}')\n",
    "\n",
    "plt.plot(k_values, inertia, 'bx-')\n",
    "plt.vlines(optimal_k, plt.ylim()[0], plt.ylim()[1], linestyles='dashed')\n",
    "plt.xlabel('Number of clusters (k)')\n",
    "plt.ylabel('Inertia')\n",
    "plt.title('Elbow Method showing the optimal k')\n",
    "plt.show()"
   ]
  },
  {
   "cell_type": "code",
   "execution_count": null,
   "id": "e6b62a6c-9e8b-467d-9e10-c63ec0b1d03f",
   "metadata": {},
   "outputs": [],
   "source": [
    "kmeans = KMeans(n_clusters=optimal_k, random_state=42)\n",
    "adata.obs['morph_leiden'] = kmeans.fit_predict(adata.obsm['X_pca'])\n",
    "adata.obs['morph_leiden'] = adata.obs['morph_leiden'].astype('category')\n",
    "\n",
    "adata.write_h5ad('Shape_500.h5ad')"
   ]
  }
 ],
 "metadata": {
  "kernelspec": {
   "display_name": "Vizgen_2",
   "language": "python",
   "name": "vizgen_2"
  },
  "language_info": {
   "codemirror_mode": {
    "name": "ipython",
    "version": 3
   },
   "file_extension": ".py",
   "mimetype": "text/x-python",
   "name": "python",
   "nbconvert_exporter": "python",
   "pygments_lexer": "ipython3",
   "version": "3.9.19"
  }
 },
 "nbformat": 4,
 "nbformat_minor": 5
}

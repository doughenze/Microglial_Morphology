{
 "cells": [
  {
   "cell_type": "markdown",
   "id": "5546778c-93fc-4aba-ab96-70764529522c",
   "metadata": {},
   "source": [
    "# This notebook must be run with the Vizgen_2 conda environment within the Vizgen.sif singularity container"
   ]
  },
  {
   "cell_type": "markdown",
   "id": "74c1471c-8ce8-45fd-81c7-cb3ffa960d32",
   "metadata": {},
   "source": [
    "# This is for manually annotating the regions, need to save intermediate files for each brain region to speed up worflow"
   ]
  },
  {
   "cell_type": "code",
   "execution_count": null,
   "id": "b1347ee9-3b24-44e7-bcbd-c6d933e946e0",
   "metadata": {},
   "outputs": [],
   "source": [
    "import scanpy as sc\n",
    "import matplotlib\n",
    "matplotlib.use('Qt5Agg')\n",
    "import pandas as pd\n",
    "import matplotlib.pyplot as plt\n",
    "from matplotlib.widgets import PolygonSelector\n",
    "from matplotlib.path import Path\n",
    "from shapely.geometry import Point, Polygon"
   ]
  },
  {
   "cell_type": "code",
   "execution_count": null,
   "id": "ab4604d9-d5af-4b1d-8cb3-66898c0c4067",
   "metadata": {},
   "outputs": [],
   "source": [
    "ad_viz = sc.read_h5ad('spatial_baysor_rotated.h5ad')\n",
    "\n",
    "\n",
    "Region_to_annotate = 'Cerebellum'\n",
    "subset_dfs = []\n",
    "ad_viz.obs[Region_to_annotate] = False"
   ]
  },
  {
   "cell_type": "code",
   "execution_count": null,
   "id": "6816e59c-5cb4-406c-bf37-4c66533be328",
   "metadata": {},
   "outputs": [],
   "source": [
    "df = ad_viz[ad_viz.obs.batchID=='24-mo-male-4-rev2'].obs.copy()\n",
    "\n",
    "# Create a scatter plot\n",
    "fig, ax = plt.subplots()\n",
    "scatter = ax.scatter(df['aligned_x'], df['aligned_y'],s=0.05)\n",
    "\n",
    "polygon_vertices = []\n",
    "\n",
    "# Callback function to handle the polygon drawing\n",
    "def onselect(verts):\n",
    "    global polygon_vertices\n",
    "    polygon_vertices = verts\n",
    "    # Create a Polygon object\n",
    "    polygon = Polygon(polygon_vertices)\n",
    "    \n",
    "    # Function to check if point is inside the polygon\n",
    "    def is_inside_polygon(x, y, polygon):\n",
    "        point = Point(x, y)\n",
    "        return polygon.contains(point)\n",
    "    \n",
    "    # Apply the function to the dataframe\n",
    "    df['inside_polygon'] = df.apply(lambda row: is_inside_polygon(row['aligned_x'], row['aligned_y'], polygon), axis=1)\n",
    "    \n",
    "    # Update the scatter plot colors based on whether the points are inside the polygon\n",
    "    scatter.set_color(['blue' if inside else 'red' for inside in df['inside_polygon']])\n",
    "    plt.draw()\n",
    "\n",
    "# Initialize the PolygonSelector\n",
    "polygon_selector = PolygonSelector(ax, onselect)\n",
    "\n",
    "plt.xlabel('x')\n",
    "plt.ylabel('y')\n",
    "plt.title('Scatter Plot with Interactive Polygon Selection')\n",
    "\n",
    "plt.show()"
   ]
  },
  {
   "cell_type": "code",
   "execution_count": null,
   "id": "61a9f0ed-8724-4295-bc3e-a79b578fc27c",
   "metadata": {},
   "outputs": [],
   "source": [
    "subset_dfs.append(df)\n",
    "\n",
    "for new_df in subset_dfs:\n",
    "    # Ensure the index of the subset dataframe matches the large dataframe\n",
    "    ad_viz.obs.loc[new_df.index, Region_to_annotate] = new_df['inside_polygon']"
   ]
  },
  {
   "cell_type": "code",
   "execution_count": null,
   "id": "4123dfdb-5917-4a46-9225-fea7ee6e546d",
   "metadata": {},
   "outputs": [],
   "source": [
    "ad_viz.write_h5ad('baysor_regions_labeled.h5ad')"
   ]
  }
 ],
 "metadata": {
  "kernelspec": {
   "display_name": "Vizgen_2",
   "language": "python",
   "name": "vizgen_2"
  },
  "language_info": {
   "codemirror_mode": {
    "name": "ipython",
    "version": 3
   },
   "file_extension": ".py",
   "mimetype": "text/x-python",
   "name": "python",
   "nbconvert_exporter": "python",
   "pygments_lexer": "ipython3",
   "version": "3.9.19"
  }
 },
 "nbformat": 4,
 "nbformat_minor": 5
}

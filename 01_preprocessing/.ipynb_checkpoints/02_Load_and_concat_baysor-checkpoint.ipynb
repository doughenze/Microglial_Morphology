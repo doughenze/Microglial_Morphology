{
 "cells": [
  {
   "cell_type": "code",
   "execution_count": null,
   "id": "abdde344-e873-4b9c-8f2e-3f9c9065e353",
   "metadata": {},
   "outputs": [],
   "source": [
    "import scanpy as sc\n",
    "import loompy\n",
    "import numpy as np\n",
    "import pandas as pd\n",
    "import matplotlib.pyplot as plt\n",
    "import os\n",
    "import anndata"
   ]
  },
  {
   "cell_type": "code",
   "execution_count": null,
   "id": "bebe29d5-5432-49d1-99c1-0cd719a9eb32",
   "metadata": {},
   "outputs": [],
   "source": [
    "base_path = 'Shapes_Spatial/'\n",
    "metas = [\n",
    "    '24-mo-female-1/',\n",
    "    '24-mo-female-3/',\n",
    "    '24-mo-female-5/',\n",
    "    '24-mo-male-1/',\n",
    "    '24-mo-male-2/',\n",
    "    '24-mo-male-4-rev2/',\n",
    "    '3-mo-male-1/',\n",
    "    '3-mo-male-2/',\n",
    "    '3-mo-male-3-rev2/',\n",
    "    '3-mo-female-1-rev2/',\n",
    "    '3-mo-female-2/',\n",
    "    '3-mo-female-3/'\n",
    "]\n",
    "adatas = []\n",
    "\"\"\"\n",
    "prior to this step we manually placed the .loom outputs from Baysor into a folder called 'baysor/' contained within the\n",
    "individual meta data folders\n",
    "\n",
    "\"\"\"\n",
    "for meta in metas:\n",
    "    file_path = os.path.join(base_path, meta, 'baysor')\n",
    "    loom_files = [f for f in os.listdir(file_path) if f.endswith('.loom') and '6-5' in f]\n",
    "    if loom_files:\n",
    "        loom_file = loom_files[0]  # Assuming there is only one .loom file (If you only ran one parameter of baysor)\n",
    "        adata = sc.read_loom(os.path.join(file_path, loom_file))\n",
    "        adata.obs['Age'] = meta.split('-')[0]\n",
    "        adata.obs['Sex'] = meta.split('-')[2]\n",
    "        adata.obs['batchID'] = meta.split('/')[0]\n",
    "        adata.var_names = adata.var.Name\n",
    "        adata.obsm['spatial'] = adata.obs[[\"x\", \"y\"]].values\n",
    "        adatas.append(adata)"
   ]
  }
 ],
 "metadata": {
  "kernelspec": {
   "display_name": "Vizgen_2",
   "language": "python",
   "name": "vizgen_2"
  },
  "language_info": {
   "codemirror_mode": {
    "name": "ipython",
    "version": 3
   },
   "file_extension": ".py",
   "mimetype": "text/x-python",
   "name": "python",
   "nbconvert_exporter": "python",
   "pygments_lexer": "ipython3",
   "version": "3.9.19"
  }
 },
 "nbformat": 4,
 "nbformat_minor": 5
}

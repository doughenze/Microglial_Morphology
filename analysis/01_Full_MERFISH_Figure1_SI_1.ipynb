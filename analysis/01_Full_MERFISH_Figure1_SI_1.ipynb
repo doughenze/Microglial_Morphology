{
 "cells": [
  {
   "cell_type": "markdown",
   "id": "8cbfdf19-e7a4-4986-85b3-59ef0a76b954",
   "metadata": {},
   "source": [
    "# This notebook must be run with the Vizgen_2 conda environment within the Vizgen.sif singularity container"
   ]
  },
  {
   "cell_type": "code",
   "execution_count": null,
   "id": "2eed836e-a768-4020-aafb-9cd797927fd0",
   "metadata": {},
   "outputs": [],
   "source": [
    "import scanpy as sc\n",
    "import loompy\n",
    "import numpy as np\n",
    "import pandas as pd\n",
    "import matplotlib.pyplot as plt\n",
    "import os\n",
    "import anndata\n",
    "import seaborn as sns"
   ]
  },
  {
   "cell_type": "code",
   "execution_count": null,
   "id": "945f47d3-21cb-4e22-913c-4a718ebfd16b",
   "metadata": {},
   "outputs": [],
   "source": [
    "base_path = '/'\n",
    "metas = [\n",
    "    '24-mo-female-1/',\n",
    "    '24-mo-female-3/',\n",
    "    '24-mo-female-5/',\n",
    "    '24-mo-male-1/',\n",
    "    '24-mo-male-2/',\n",
    "    '24-mo-male-4-rev2/',\n",
    "    '3-mo-male-1/',\n",
    "    '3-mo-male-2/',\n",
    "    '3-mo-male-3-rev2/',\n",
    "    '3-mo-female-1-rev2/',\n",
    "    '3-mo-female-2/',\n",
    "    '3-mo-female-3/'\n",
    "]\n",
    "adatas = []\n",
    "\n",
    "for meta in metas:\n",
    "    file_path = os.path.join(base_path, meta, 'baysor')\n",
    "    loom_files = [f for f in os.listdir(file_path) if f.endswith('.loom') and '6-5' in f]\n",
    "    if loom_files:\n",
    "        loom_file = loom_files[0]  # Assuming there is only one .loom file (If you only ran one parameter of baysor)\n",
    "        adata = sc.read_loom(os.path.join(file_path, loom_file))\n",
    "        adata.obs['Age'] = meta.split('-')[0]\n",
    "        adata.obs['Sex'] = meta.split('-')[2]\n",
    "        adata.obs['batchID'] = meta.split('/')[0]\n",
    "        adata.var_names = adata.var.Name\n",
    "        adata.obsm['spatial'] = adata.obs[[\"x\", \"y\"]].values\n",
    "        adatas.append(adata)"
   ]
  },
  {
   "cell_type": "code",
   "execution_count": null,
   "id": "4b4a5f69-f06c-460c-a0f8-e1571dca4c91",
   "metadata": {},
   "outputs": [],
   "source": [
    "combined_adata = anndata.concat(adatas, axis=0)\n",
    "\n",
    "gene_counts_per_cell = combined_adata.X.getnnz(axis=1)\n",
    "\n",
    "# Optionally, add this as a new column in `adata.obs`\n",
    "combined_adata.obs['gene_counts'] = gene_counts_per_cell"
   ]
  },
  {
   "cell_type": "code",
   "execution_count": null,
   "id": "c2e0e87b-3d1b-4244-94d3-eb2edde78474",
   "metadata": {},
   "outputs": [],
   "source": [
    "plt.figure(figsize=(10, 6))\n",
    "sns.violinplot(data=combined_adata.obs, x='Age', y='n_transcripts', inner=\"quartile\")\n",
    "\n",
    "# Step 3: Add a horizontal line at 20\n",
    "plt.axhline(y=20, color='red', linestyle='--')\n",
    "\n",
    "# Step 4: Label the plot\n",
    "plt.xlabel(\"Batch ID\")\n",
    "plt.ylabel(\"Number of Transcripts per Cell\")\n",
    "plt.title(\"Violin Plot of Transcripts per Cell by Batch ID\")\n",
    "\n",
    "plt.savefig('transcripts_per_cell_age.pdf',format='pdf')\n",
    "plt.show()\n",
    "\n",
    "plt.figure(figsize=(10, 6))\n",
    "sns.violinplot(data=combined_adata.obs, x='Age', y='gene_counts', inner=\"quartile\")\n",
    "\n",
    "# Step 3: Add a horizontal line at 20\n",
    "plt.axhline(y=5, color='red', linestyle='--')\n",
    "\n",
    "# Step 4: Label the plot\n",
    "plt.xlabel(\"Batch ID\")\n",
    "plt.ylabel(\"Number of Genes per Cell\")\n",
    "plt.title(\"Violin Plot of Genes per Cell by Batch ID\")\n",
    "plt.savefig('genes_per_cell_age.pdf',format='pdf')\n",
    "plt.show()"
   ]
  },
  {
   "cell_type": "code",
   "execution_count": null,
   "id": "65b9c103-7751-4963-af83-2de772a8b5fa",
   "metadata": {},
   "outputs": [],
   "source": [
    "fig, ax = plt.subplots(figsize=(14,14))\n",
    "sc.pl.spatial(combined_adata[combined_adata.obs.batchID == '24-mo-male-4-rev2'],cmap='coolwarm',color='n_transcripts',spot_size=25,ax=ax,vmax = \"p99.5\")\n",
    "fig.savefig('old_n_transcripts.png', dpi=300, bbox_inches='tight')\n",
    "\n",
    "fig, ax = plt.subplots(figsize=(14,14))\n",
    "sc.pl.spatial(combined_adata[combined_adata.obs.batchID == '3-mo-female-1-rev2'],cmap='coolwarm',color='n_transcripts',spot_size=25,ax=ax,vmax = \"p99.5\")\n",
    "fig.savefig('young_n_transcripts.png', dpi=300, bbox_inches='tight')\n",
    "\n",
    "fig, ax = plt.subplots(figsize=(14,14))\n",
    "sc.pl.spatial(combined_adata[combined_adata.obs.batchID == '3-mo-female-1-rev2'],color='gene_counts',spot_size=25,ax=ax,cmap='coolwarm',vmax = \"p99.5\")\n",
    "fig.savefig('young_n_genes.png', dpi=300, bbox_inches='tight')\n",
    "\n",
    "fig, ax = plt.subplots(figsize=(14,14))\n",
    "sc.pl.spatial(combined_adata[combined_adata.obs.batchID == '24-mo-male-4-rev2'],cmap='coolwarm',color='gene_counts',spot_size=25,ax=ax,vmax = \"p99.5\")\n",
    "fig.savefig('old_n_genes.png', dpi=300, bbox_inches='tight')"
   ]
  },
  {
   "cell_type": "code",
   "execution_count": null,
   "id": "64cdb324-fe13-4138-9fa6-bac2fdf0c500",
   "metadata": {},
   "outputs": [],
   "source": [
    "adata = sc.read_h5ad('../Baysor/ABC_cleaned.h5ad')\n",
    "\n",
    "adata.X = adata.layers['counts'].copy()\n",
    "gene_counts_per_cell = adata.X.getnnz(axis=1)\n",
    "adata.obs['gene_counts'] = gene_counts_per_cell\n",
    "adata = adata[adata.obs['gene_counts'] > 5]\n",
    "\n",
    "fig, ax = plt.subplots(figsize=(14,14))\n",
    "sc.pl.umap(adata,color='Age',size=2,ax=ax)\n",
    "fig.savefig('age_whole_umap_high_res.png', dpi=300, bbox_inches='tight')\n",
    "\n",
    "fig, ax = plt.subplots(figsize=(14,14))\n",
    "sc.pl.umap(adata,color='class',size=2,ax=ax)\n",
    "fig.savefig('class_whole_umap_high_res.png', dpi=300, bbox_inches='tight')\n",
    "\n",
    "fig, ax = plt.subplots(figsize=(14,14))\n",
    "sc.pl.umap(adata,color='Brain_Region',size=2,ax=ax)\n",
    "fig.savefig('region_whole_umap_high_res.png', dpi=300, bbox_inches='tight')"
   ]
  },
  {
   "cell_type": "code",
   "execution_count": null,
   "id": "f62665b3-bdfc-47b0-b1fe-cff72f02611c",
   "metadata": {},
   "outputs": [],
   "source": [
    "sc.pl.dotplot(adata, var_names=['Aqp4','Gdf10','Pvalb','Cbln1','Npy','Trank1','Tenm2','Foxj1','Baiap3','Rprm','Grin2a', 'Gfap','Prkcd','Drd2','Scn1a','Lgi2', \\\n",
    "                                  'Cdh13','Lhx6','Epha6','Plxna4', 'Scn8a','Laptm5','Nptx1','Igf2','Pdgfra','Mobp','Gpr88','Rora','Flt1'], groupby='class', standard_scale='var',save='_full_object.pdf')"
   ]
  }
 ],
 "metadata": {
  "kernelspec": {
   "display_name": "Vizgen_2",
   "language": "python",
   "name": "vizgen_2"
  },
  "language_info": {
   "codemirror_mode": {
    "name": "ipython",
    "version": 3
   },
   "file_extension": ".py",
   "mimetype": "text/x-python",
   "name": "python",
   "nbconvert_exporter": "python",
   "pygments_lexer": "ipython3",
   "version": "3.9.19"
  }
 },
 "nbformat": 4,
 "nbformat_minor": 5
}

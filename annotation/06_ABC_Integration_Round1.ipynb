{
 "cells": [
  {
   "cell_type": "markdown",
   "id": "b7a2c3e0-dd5c-454a-8ed7-325f0c2929e3",
   "metadata": {},
   "source": [
    "This code, and the following two notebooks, are largely inspired by the Allen Brain Cell Atlas's\n",
    "MERFISH atlas. The code used was sourced and adapted from this github: https://github.com/ZhuangLab/whole_mouse_brain_MERFISH_atlas_scripts_2023/blob/main/scripts/integrate_MERFISH_with_scRNA-seq/integration_round1.ipynb"
   ]
  },
  {
   "cell_type": "code",
   "execution_count": null,
   "id": "492aa0d0-88f9-4d2b-bc96-c595fcdcce5c",
   "metadata": {},
   "outputs": [],
   "source": [
    "import os\n",
    "import shutil\n",
    "import numpy as np\n",
    "import pandas as pd\n",
    "import matplotlib.pyplot as plt\n",
    "\n",
    "import anndata\n",
    "import scanpy as sc\n",
    "sc.settings.n_jobs = 56\n",
    "sc.settings.set_figure_params(dpi=180, dpi_save=300, frameon=False, figsize=(4, 4), fontsize=8, facecolor='white')\n",
    "\n",
    "import ALLCools\n",
    "from ALLCools.integration.seurat_class import SeuratIntegration"
   ]
  },
  {
   "cell_type": "code",
   "execution_count": null,
   "id": "81c67f6d-5350-4f35-9332-157c4dfbe301",
   "metadata": {},
   "outputs": [],
   "source": [
    "workspace_path = 'integration_workspace'\n",
    "# Load the datasets\n",
    "adata_seq = sc.read_h5ad(os.path.join(workspace_path, 'adata_seq_common_genes.h5ad'))\n",
    "\n",
    "adata_merfish_raw = sc.read_h5ad(os.path.join(workspace_path, 'adata_merfish.h5ad'))\n",
    "adata_merfish = adata_merfish_raw.copy()"
   ]
  },
  {
   "cell_type": "code",
   "execution_count": null,
   "id": "a6a37939-d9e4-4cd6-831f-4ea8d8bdcf47",
   "metadata": {},
   "outputs": [],
   "source": [
    "adata_merfish.X = adata_merfish.layers['counts']\n",
    "\n",
    "sc.pp.normalize_total(adata_seq, target_sum=1000)\n",
    "sc.pp.log1p(adata_seq)\n",
    "sc.pp.scale(adata_seq)\n",
    "\n",
    "sc.pp.normalize_total(adata_merfish, target_sum=1000)\n",
    "sc.pp.log1p(adata_merfish)\n",
    "sc.pp.scale(adata_merfish)\n",
    "\n",
    "adata_merge = adata_seq.concatenate(adata_merfish,\n",
    "                                    batch_categories=['seq', 'merfish'],\n",
    "                                    batch_key='modality',\n",
    "                                    index_unique=None)\n",
    "\n",
    "n_pcs = 100\n",
    "sc.tl.pca(adata_merge, svd_solver='arpack', n_comps=100)\n",
    "\n",
    "adata_list = [adata_merge[adata_merge.obs['modality'] == 'seq'],\n",
    "              adata_merge[adata_merge.obs['modality'] == 'merfish']\n",
    "             ]\n",
    "\n",
    "integrator = SeuratIntegration()\n",
    "integrator.find_anchor(adata_list,\n",
    "                       k_local=None,\n",
    "                       key_local='X_pca',\n",
    "                       k_anchor=5,\n",
    "                       key_anchor='X',\n",
    "                       dim_red='cca',\n",
    "                       max_cc_cells=100000,\n",
    "                       k_score=30,\n",
    "                       k_filter=None, #why?\n",
    "                       scale1=False,\n",
    "                       scale2=False,\n",
    "                       n_components=n_pcs,\n",
    "                       n_features=200,\n",
    "                       alignments=[[[0], [1]]])"
   ]
  },
  {
   "cell_type": "code",
   "execution_count": null,
   "id": "cebd9db0-1558-4cf7-a172-014ac4bbb1a4",
   "metadata": {},
   "outputs": [],
   "source": [
    "%%time\n",
    "cell_type_col = 'integration_partition'\n",
    "\n",
    "transfer_results = integrator.label_transfer(\n",
    "    ref=[0],\n",
    "    qry=[1],\n",
    "    categorical_key=[cell_type_col],\n",
    "    key_dist='X_pca',\n",
    "    npc=n_pcs\n",
    ")\n",
    "\n",
    "integrator.save_transfer_results_to_adata(adata_merge, transfer_results)"
   ]
  },
  {
   "cell_type": "code",
   "execution_count": null,
   "id": "d7be32a7-3fb4-4111-8e5c-fc5e7b3ca3d0",
   "metadata": {},
   "outputs": [],
   "source": [
    "adata_merfish_raw.obs[cell_type_col + '_transfer'] = transfer_results[cell_type_col].idxmax(axis=1\n",
    "                                                                                           ).astype('category')\n",
    "adata_merfish_raw.obs[cell_type_col + '_confidence'] = transfer_results[cell_type_col].max(axis=1)\n",
    "\n",
    "n_transfered = len(np.unique(adata_merfish_raw.obs[cell_type_col + '_transfer']))\n",
    "n_total = len(np.unique(adata_merge.obs[cell_type_col + '_transfer']))\n",
    "print(f'Transfered {n_transfered}/{n_total} cell types.')"
   ]
  },
  {
   "cell_type": "code",
   "execution_count": null,
   "id": "727efc66-794f-4f63-8fa4-a85e3d270e9a",
   "metadata": {},
   "outputs": [],
   "source": [
    "# Save the label transfer results for each class\n",
    "partition_path = os.path.join(workspace_path, 'partitions')\n",
    "partitions = np.unique(adata_merfish_raw.obs[cell_type_col + '_transfer'])\n",
    "\n",
    "for pn in partitions:\n",
    "    adata_subset = adata_merfish_raw[adata_merfish_raw.obs[cell_type_col + '_transfer'] == pn]\n",
    "    adata_subset.write_h5ad(os.path.join(partition_path, pn.replace('/', '-').replace(' ', '_'), \n",
    "                                    'adata_merfish_integrated.h5ad'), compression='gzip')"
   ]
  },
  {
   "cell_type": "code",
   "execution_count": null,
   "id": "d53a2ef6-4187-4865-af70-b59f81fcfcc6",
   "metadata": {},
   "outputs": [],
   "source": [
    "%%time\n",
    "# Correct the PCs using the integration anchors\n",
    "corrected = integrator.integrate(key_correct='X_pca',\n",
    "                                 row_normalize=True,\n",
    "                                 n_components=n_pcs,\n",
    "                                 k_weight=100,\n",
    "                                 sd=1,\n",
    "                                 alignments=[[[0], [1]]])\n",
    "\n",
    "adata_merge.obsm['X_pca_integrate'] = np.concatenate(corrected)"
   ]
  },
  {
   "cell_type": "code",
   "execution_count": null,
   "id": "b89d6b71-11a4-4579-9ff2-9913432a8182",
   "metadata": {},
   "outputs": [],
   "source": [
    "sc.pp.neighbors(adata_merge, use_rep='X_pca_integrate')"
   ]
  },
  {
   "cell_type": "code",
   "execution_count": null,
   "id": "78ceb718-dead-4eda-8514-57c9289ac86d",
   "metadata": {},
   "outputs": [],
   "source": [
    "%%time\n",
    "# Generate the PAGA plot for the initial arrangement of the UMAP\n",
    "sc.tl.paga(adata_merge, groups=cell_type_col + '_transfer')\n",
    "sc.pl.paga(adata_merge, save='_tmp.png')"
   ]
  },
  {
   "cell_type": "code",
   "execution_count": null,
   "id": "4272c3a9-2d1a-4049-ac5e-8aec80fda46e",
   "metadata": {},
   "outputs": [],
   "source": [
    "%%time\n",
    "# Save the umap\n",
    "sc.tl.umap(adata_merge, init_pos='paga', min_dist=0.5)\n",
    "sc.pl.umap(adata_merge, color='modality', save='_tmp.png')\n",
    "shutil.move('figures/umap_tmp.png', os.path.join(workspace_path, 'integration_umap_round1_modality.png'))\n",
    "sc.pl.umap(adata_merge, color=cell_type_col + '_transfer', save='_tmp.png', palette='gist_ncar')"
   ]
  },
  {
   "cell_type": "code",
   "execution_count": null,
   "id": "7cc640a2-3f35-49d2-8dfc-12caeb7b8dec",
   "metadata": {},
   "outputs": [],
   "source": [
    "adata_merge.write_h5ad(os.path.join(workspace_path, 'adata_merged_round1.h5ad'), compression='gzip')\n",
    "\n",
    "coembedding_umap_df = adata_merge.obs[[]].copy()\n",
    "coembedding_umap_df['umap_x'] = adata_merge.obsm['X_umap'][:, 0]\n",
    "coembedding_umap_df['umap_y'] = adata_merge.obsm['X_umap'][:, 1]\n",
    "coembedding_umap_df.to_csv(os.path.join(workspace_path, 'coembedding_umap.csv'))"
   ]
  }
 ],
 "metadata": {
  "kernelspec": {
   "display_name": "Vizgen_2",
   "language": "python",
   "name": "vizgen_2"
  },
  "language_info": {
   "codemirror_mode": {
    "name": "ipython",
    "version": 3
   },
   "file_extension": ".py",
   "mimetype": "text/x-python",
   "name": "python",
   "nbconvert_exporter": "python",
   "pygments_lexer": "ipython3",
   "version": "3.9.19"
  }
 },
 "nbformat": 4,
 "nbformat_minor": 5
}

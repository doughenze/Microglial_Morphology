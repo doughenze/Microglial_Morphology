{
 "cells": [
  {
   "cell_type": "markdown",
   "id": "db099d5e-5a14-41e9-b148-5e12d7f534a4",
   "metadata": {},
   "source": [
    "# This notebook must be run with the scvi conda environment within the scvi.sif singularity container"
   ]
  },
  {
   "cell_type": "code",
   "execution_count": null,
   "id": "a899e372-3757-4ddc-96f4-d7698b54e51b",
   "metadata": {},
   "outputs": [],
   "source": [
    "# scVI and scANVI Integration of Data\n",
    "import scanpy as sc\n",
    "import numpy as np\n",
    "import pandas as pd\n",
    "import matplotlib.pyplot as plt\n",
    "import scvi\n",
    "import anndata as ad"
   ]
  },
  {
   "cell_type": "markdown",
   "id": "1b24332a-29ab-42a0-8e69-9eb80fa13a8f",
   "metadata": {},
   "source": [
    "Whole brain atlas of the adolescent mouse brain was downloaded from this endpoint: http://mousebrain.org/adolescent/downloads.html"
   ]
  },
  {
   "cell_type": "code",
   "execution_count": null,
   "id": "5671ace4-0849-4fc7-a31f-8916b2202587",
   "metadata": {},
   "outputs": [],
   "source": [
    "# first must convert the .loom file to a .h5ad for future use\n",
    "base_path = '/hpc/projects/group.quake/doug/UCE/data/'\n",
    "file_name = 'l5_all.loom'\n",
    "output_name = 'l5_all.h5ad'\n",
    "l5_brain = sc.read_loom(base_path+file_name)\n",
    "l5_brain.obs['celltype'] = l5_brain.obs.Taxonomy_group\n",
    "l5_brain.write_h5ad(base_path+output_name)"
   ]
  },
  {
   "cell_type": "code",
   "execution_count": null,
   "id": "d1d92184-87c8-48a2-b7f7-4233b9a15ea8",
   "metadata": {},
   "outputs": [],
   "source": [
    "whole = sc.read_h5ad(base_path+output_name)\n",
    "whole.obs['batch'] = whole.obs.DonorID\n",
    "\n",
    "#merged_ad_vize just see what happens if we subset to highly variable\n",
    "whole.layers['counts'] = whole.X\n",
    "\n",
    "#merged_ad_viz = merged_ad_viz[:, merged_ad_viz.var.highly_variable]\n",
    "sc.pp.normalize_total(whole)\n",
    "sc.pp.log1p(whole)\n",
    "sc.pp.highly_variable_genes(whole, min_mean=0.0125, max_mean=3, min_disp=0.5)\n",
    "\n",
    "sc.pp.neighbors(whole)\n",
    "sc.tl.umap(whole)\n",
    "\n",
    "ad_viz = sc.read_h5ad('../Baysor/baysor_segmented_6-5_micron.h5ad')"
   ]
  },
  {
   "cell_type": "code",
   "execution_count": null,
   "id": "2e2f918f-8f64-4df3-acb5-d765870bf27e",
   "metadata": {},
   "outputs": [],
   "source": [
    "genes_Vizgen = ad_viz.var.index\n",
    "genes_10x = whole.var.index\n",
    "genes_shared = genes_Vizgen.intersection(genes_10x) # List of shared genes\n",
    "\n",
    "ad_viz = ad_viz[:, genes_Vizgen.isin(genes_shared)].copy()\n",
    "whole = whole[:, genes_10x.isin(genes_shared)]\n",
    "\n",
    "ad_viz.obs['tech']='Vizgen'\n",
    "whole.obs['tech']='10x'\n",
    "\n",
    "ad_viz.obs_names_make_unique()\n",
    "whole.obs_names_make_unique()\n",
    "ad_viz.var_names_make_unique()\n",
    "whole.var_names_make_unique()"
   ]
  },
  {
   "cell_type": "code",
   "execution_count": null,
   "id": "4d745b21-c908-440f-b6bb-c34ac635e350",
   "metadata": {},
   "outputs": [],
   "source": [
    "brain_concat = ad.concat([whole, ad_viz], join='outer', label='tech', keys=['10x', 'Vizgen'])\n",
    "\n",
    "# Use the annotations from the 10x, and treat the MERFISH as unlabeled\n",
    "brain_concat.obs['celltype_scanvi'] = 'Unknown'\n",
    "brain_10x_mask = brain_concat.obs['tech'] == '10x'\n",
    "\n",
    "brain_concat.obs['celltype_scanvi'][brain_10x_mask] = brain_concat.obs[\n",
    "    'celltype'][brain_10x_mask].values\n",
    "\n",
    "\n",
    "# Create the scVI latent space\n",
    "scvi.model.SCVI.setup_anndata(brain_concat, layer=\"counts\", batch_key=\"tech\")\n",
    "vae_brain = scvi.model.SCVI(brain_concat)\n",
    "\n",
    "# Train the brain model\n",
    "vae_brain.train()"
   ]
  },
  {
   "cell_type": "code",
   "execution_count": null,
   "id": "a95f64fe-5110-4978-bc17-9dfbd47c3f9f",
   "metadata": {},
   "outputs": [],
   "source": [
    "# Register the object and run scANVI\n",
    "scvi.model.SCANVI.setup_anndata(\n",
    "    brain_concat,\n",
    "    layer=\"counts\",\n",
    "    batch_key=\"tech\",\n",
    "    labels_key=\"celltype_scanvi\",\n",
    "    unlabeled_category=\"celltype\"\n",
    ")\n",
    "\n",
    "\n",
    "lvae_brain = scvi.model.SCANVI.from_scvi_model(vae_brain, \"Unknown\", adata=brain_concat,labels_key=\"celltype_scanvi\")\n",
    "\n",
    "lvae_brain.train(max_epochs=20, n_samples_per_label=100)"
   ]
  },
  {
   "cell_type": "code",
   "execution_count": null,
   "id": "9123ce69-a9c3-4d2b-abf0-c544d0bd8929",
   "metadata": {},
   "outputs": [],
   "source": [
    "# Get the predicted annotations and latent representation\n",
    "brain_concat.obs[\"C_scANVI\"] = lvae_brain.predict(brain_concat)\n",
    "brain_concat.obsm[\"X_scANVI\"] = lvae_brain.get_latent_representation(brain_concat)\n",
    "\n",
    "# Calculate the UMAP in the joint latent space\n",
    "sc.pp.neighbors(brain_concat, use_rep=\"X_scANVI\")\n",
    "sc.tl.umap(brain_concat)\n",
    "\n",
    "# Plot the joint UMAP\n",
    "sc.pl.umap(brain_concat, color=['tech', 'C_scANVI'])"
   ]
  },
  {
   "cell_type": "code",
   "execution_count": null,
   "id": "432d27bc-2fd6-4263-ab35-485d26581442",
   "metadata": {},
   "outputs": [],
   "source": [
    "test = brain_concat[brain_concat.obs.tech == 'Vizgen']\n",
    "test.obsm['spatial'] = test.obs[[\"x\", \"y\"]].values\n",
    "test.obs['celltype'] = test.obs.C_scANVI"
   ]
  },
  {
   "cell_type": "code",
   "execution_count": null,
   "id": "65331929-5012-4132-ac36-81e5213308a1",
   "metadata": {},
   "outputs": [],
   "source": [
    "sc.pp.neighbors(test)\n",
    "sc.tl.umap(test)\n",
    "sc.tl.leiden(test,resolution=1)\n",
    "# Plot the joint UMAP\n",
    "sc.pl.umap(test, color=['celltype'])\n",
    "\n",
    "test.write_h5ad('../Baysor/full_dataset_SCANVI.h5ad')"
   ]
  },
  {
   "cell_type": "code",
   "execution_count": null,
   "id": "6c0ff6da-eb61-4409-bc45-a1c07284f205",
   "metadata": {},
   "outputs": [],
   "source": []
  }
 ],
 "metadata": {
  "kernelspec": {
   "display_name": "Vizgen_2",
   "language": "python",
   "name": "vizgen_2"
  },
  "language_info": {
   "codemirror_mode": {
    "name": "ipython",
    "version": 3
   },
   "file_extension": ".py",
   "mimetype": "text/x-python",
   "name": "python",
   "nbconvert_exporter": "python",
   "pygments_lexer": "ipython3",
   "version": "3.9.19"
  }
 },
 "nbformat": 4,
 "nbformat_minor": 5
}

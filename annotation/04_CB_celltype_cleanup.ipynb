{
 "cells": [
  {
   "cell_type": "markdown",
   "id": "986a5f08-f2b4-44fb-acd7-be19e0f65ae2",
   "metadata": {},
   "source": [
    "# since a good portion of the genes in the panel can help us annotate the cerebellum we need to go\n",
    "# through and clean up the annotation"
   ]
  },
  {
   "cell_type": "code",
   "execution_count": null,
   "id": "4a0c54ae-fd8d-48c5-b177-f0163a253f1c",
   "metadata": {},
   "outputs": [],
   "source": [
    "ad_viz= sc.read_h5ad('baysor_regions_labeled.h5ad')\n",
    "ad_genes = sc.read_h5ad('baysor_segmented_6-5_micron.h5ad')\n",
    "ad_genes.obs_names_make_unique()"
   ]
  },
  {
   "cell_type": "code",
   "execution_count": null,
   "id": "4c22fa59-bb30-4b65-a97a-6f9b876e285e",
   "metadata": {},
   "outputs": [],
   "source": [
    "regions = ['Cortex', 'Hippocampus', 'Thalamus', 'Hypothalamus', 'Basal_Ganglia', 'MPM', 'Cerebellum']\n",
    "\n",
    "# Create the 'Brain_Region' column with default value as 'Unlabeled'\n",
    "new_adata.obs['Brain_Region'] = 'Unlabeled'\n",
    "\n",
    "# Assign the brain region based on the True values in the respective columns\n",
    "for region in regions:\n",
    "    new_adata.obs.loc[new_adata.obs[region] == True, 'Brain_Region'] = region\n",
    "\n",
    "# Verify the new column\n",
    "print(new_adata.obs[['Brain_Region']].head())\n",
    "\n",
    "new_adata.obsm['spatial'] = new_adata.obs[[\"aligned_x\", \"aligned_y\"]].values\n",
    "\n",
    "new_adata.write_h5ad('COMPLETE_Baysor.h5ad')"
   ]
  },
  {
   "cell_type": "code",
   "execution_count": null,
   "id": "14473b19-28ff-480d-884f-a7a1bbd712f5",
   "metadata": {},
   "outputs": [],
   "source": [
    "# Now we want to clean up the CB annotation\n",
    "cerebellum_cells = new_adata[new_adata.obs['Brain_Region'] == 'Cerebellum']\n",
    "\n",
    "cerebellum_cells = new_adata[new_adata.obs['Brain_Region'] == 'Cerebellum']\n",
    "\n",
    "sc.pp.neighbors(cerebellum_cells)\n",
    "sc.tl.leiden(cerebellum_cells, resolution=1.5)\n",
    "sc.tl.umap(cerebellum_cells)\n",
    "\n",
    "sc.pl.umap(cerebellum_cells,color=['leiden'])"
   ]
  },
  {
   "cell_type": "code",
   "execution_count": null,
   "id": "49fec8b2-d6ad-4c54-9233-c35e3f1258a3",
   "metadata": {},
   "outputs": [],
   "source": [
    "# Use the marker genes from: https://www.nature.com/articles/s41586-021-03220-z\n",
    "genes = ['Ppp1r17','Rora', 'Gabra6','Cbln1', 'Eomes','Lypd6','Prkcd','Klhl1', 'Lgi2','Gdf10', 'Aqp4','Mobp', 'Ppfibp1','Dcn','Kcnj8', 'Mrc1', 'Flt1', 'Foxj1', 'Tmem119','P2ry12','Pvalb','Sst'] \n",
    "sc.pl.dotplot(cerebellum_cells, var_names=genes, groupby='leiden')"
   ]
  },
  {
   "cell_type": "code",
   "execution_count": null,
   "id": "9f9f8e90-dc77-4216-9843-d1c3c17cecc0",
   "metadata": {},
   "outputs": [],
   "source": [
    "# map the leiden clusters to the CB annotations based on marker gene expression\n",
    "cluster_annotations = {\n",
    "    '0': 'Molecular layer interneurons',\n",
    "    '1': 'Granule cells',\n",
    "    '2': 'Granule cells',\n",
    "    '3': 'Granule cells',\n",
    "    '4': 'Granule cells',\n",
    "    '5': 'Granule cells',\n",
    "    '6': 'Granule cells',\n",
    "    '7': 'Granule cells',\n",
    "    '8': 'Granule cells',\n",
    "    '9': 'Astrocytes',\n",
    "    '10': 'Purkinje cells',\n",
    "    '11': 'Oligodendrocytes',\n",
    "    '12': 'Endothelial cells',\n",
    "    '13': 'Pvalb+ interneurons',\n",
    "    '14': 'Granule cells',\n",
    "    '15': 'Granule cells',\n",
    "    '16': 'Golgi cells',\n",
    "    '17': 'Granule cells',\n",
    "    '18': 'Granule cells',\n",
    "    '19': 'Pvalb+ interneurons',\n",
    "    '20': 'Granule cells',\n",
    "    '21': 'Granule cells',\n",
    "    '22': 'Pvalb+ interneurons',\n",
    "    '23': 'Pvalb+ interneurons',\n",
    "    '24': 'Pvalb+ interneurons',\n",
    "    '25': 'Pvalb+ interneurons',\n",
    "    '26': 'Granule cells',\n",
    "    '27': 'Microglia',\n",
    "    '28': 'Pvalb+ interneurons',\n",
    "    '29': 'Oligodendrocyte precursor cells',\n",
    "    '30': 'Microglia',\n",
    "    '31': 'Fibroblasts',\n",
    "    '32': 'Ependymal cells',\n",
    "    '33': 'Pvalb+ interneurons',\n",
    "    '34': 'Granule cells',\n",
    "    '35': 'Unknown',\n",
    "    '36': 'Unknown',\n",
    "    '37': 'Unknown',\n",
    "}\n",
    "\n",
    "cerebellum_cells.obs['updated_celltype'] = cerebellum_cells.obs['leiden'].map(cluster_annotations)\n",
    "\n",
    "# Reapply this clean up to the main data object\n",
    "\n",
    "# Ensure indices are of the same type\n",
    "new_adata.obs.index = new_adata.obs.index.astype(str)\n",
    "cerebellum_cells.obs.index = cerebellum_cells.obs.index.astype(str)\n",
    "\n",
    "# Step 4: Update the main AnnData object\n",
    "# Convert the existing cell type column to strings\n",
    "new_adata.obs['updated_celltype'] = new_adata.obs['celltype'].astype(str)\n",
    "\n",
    "# Update the cell types for cerebellum cells based on the new annotations\n",
    "new_adata.obs.loc[cerebellum_cells.obs.index, 'updated_celltype'] = cerebellum_cells.obs['updated_celltype'].astype(str)\n",
    "\n",
    "# Since I annotated the cerebellum fully I want to remove any Cerebellum neurons that escaped my annotation\n",
    "\n",
    "sensical_adata = new_adata[~(new_adata.obs.updated_celltype == 'Cerebellum neurons')]\n",
    "\n",
    "# Final Cleaned up Annotation from scVI and scANVI\n",
    "sensical_adata.write_h5ad('FINAL_ANNOTATION.h5ad')"
   ]
  }
 ],
 "metadata": {
  "kernelspec": {
   "display_name": "Vizgen_2",
   "language": "python",
   "name": "vizgen_2"
  },
  "language_info": {
   "codemirror_mode": {
    "name": "ipython",
    "version": 3
   },
   "file_extension": ".py",
   "mimetype": "text/x-python",
   "name": "python",
   "nbconvert_exporter": "python",
   "pygments_lexer": "ipython3",
   "version": "3.9.19"
  }
 },
 "nbformat": 4,
 "nbformat_minor": 5
}
